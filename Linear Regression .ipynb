{
  "nbformat": 4,
  "nbformat_minor": 0,
  "metadata": {
    "colab": {
      "name": "Day5_DS_ML.ipynb",
      "provenance": []
    },
    "kernelspec": {
      "name": "python3",
      "display_name": "Python 3"
    },
    "language_info": {
      "name": "python"
    }
  },
  "cells": [
    {
      "cell_type": "markdown",
      "metadata": {
        "id": "HjKFkQvLJQtm"
      },
      "source": [
        "# EXAMPLE : Linear Regression"
      ]
    },
    {
      "cell_type": "code",
      "metadata": {
        "id": "6gXhC1V8S6bS"
      },
      "source": [
        "#Importing libraries\n",
        "import numpy as np\n",
        "import matplotlib.pyplot as plt\n",
        "import pandas as pd"
      ],
      "execution_count": null,
      "outputs": []
    },
    {
      "cell_type": "code",
      "metadata": {
        "id": "560fXHHUT6PT"
      },
      "source": [
        "#import the dataset\n",
        "\n",
        "dataset = pd.read_csv(\"/content/Salary_Data.csv\")\n",
        "\n",
        "x = dataset.iloc[:, :-1].values\n",
        "y = dataset.iloc[:, -1].values"
      ],
      "execution_count": null,
      "outputs": []
    },
    {
      "cell_type": "code",
      "metadata": {
        "id": "RzIXnCyMT6Zu"
      },
      "source": [
        "#Split the dataset into test and train sets\n",
        "from sklearn.model_selection import train_test_split\n",
        "\n",
        "x_train, x_test, y_train, y_test = train_test_split(x, y, test_size = 1/3)"
      ],
      "execution_count": null,
      "outputs": []
    },
    {
      "cell_type": "code",
      "metadata": {
        "colab": {
          "base_uri": "https://localhost:8080/"
        },
        "id": "4TAapv38T6iP",
        "outputId": "5f60e0b1-294d-4436-f370-7f5c81509929"
      },
      "source": [
        "print(x_train)\n",
        "print(x_test)\n",
        "print(y_train)\n",
        "print(y_test)"
      ],
      "execution_count": null,
      "outputs": [
        {
          "output_type": "stream",
          "text": [
            "[[ 4.9]\n",
            " [ 3.2]\n",
            " [ 9.6]\n",
            " [ 2.9]\n",
            " [ 3.2]\n",
            " [ 8.7]\n",
            " [ 7.9]\n",
            " [10.5]\n",
            " [ 5.9]\n",
            " [ 1.1]\n",
            " [ 3.7]\n",
            " [ 2. ]\n",
            " [ 9. ]\n",
            " [10.3]\n",
            " [ 4.1]\n",
            " [ 5.1]\n",
            " [ 6.8]\n",
            " [ 8.2]\n",
            " [ 4. ]\n",
            " [ 6. ]]\n",
            "[[3. ]\n",
            " [3.9]\n",
            " [4.5]\n",
            " [7.1]\n",
            " [1.5]\n",
            " [1.3]\n",
            " [2.2]\n",
            " [4. ]\n",
            " [9.5]\n",
            " [5.3]]\n",
            "[ 67938.  64445. 112635.  56642.  54445. 109431. 101302. 121872.  81363.\n",
            "  39343.  57189.  43525. 105582. 122391.  57081.  66029.  91738. 113812.\n",
            "  55794.  93940.]\n",
            "[ 60150.  63218.  61111.  98273.  37731.  46205.  39891.  56957. 116969.\n",
            "  83088.]\n"
          ],
          "name": "stdout"
        }
      ]
    },
    {
      "cell_type": "code",
      "metadata": {
        "colab": {
          "base_uri": "https://localhost:8080/"
        },
        "id": "qvAF-DhxT6pP",
        "outputId": "d4bbba41-403a-47c0-ccff-dc0604f7e3a9"
      },
      "source": [
        "#training the simple linear regression model\n",
        "\n",
        "from sklearn.linear_model import LinearRegression\n",
        "slr = LinearRegression()\n",
        "slr.fit(x_train, y_train)"
      ],
      "execution_count": null,
      "outputs": [
        {
          "output_type": "execute_result",
          "data": {
            "text/plain": [
              "LinearRegression(copy_X=True, fit_intercept=True, n_jobs=None, normalize=False)"
            ]
          },
          "metadata": {
            "tags": []
          },
          "execution_count": 5
        }
      ]
    },
    {
      "cell_type": "code",
      "metadata": {
        "id": "zzk_TNpKT6vF"
      },
      "source": [
        "#Predictin the test set results\n",
        "\n",
        "y_pred = slr.predict(x_test)"
      ],
      "execution_count": null,
      "outputs": []
    },
    {
      "cell_type": "code",
      "metadata": {
        "colab": {
          "base_uri": "https://localhost:8080/"
        },
        "id": "zc93bl9KT62c",
        "outputId": "6fae9b61-53d8-4167-b866-3b69e78dd13b"
      },
      "source": [
        "y_pred"
      ],
      "execution_count": null,
      "outputs": [
        {
          "output_type": "execute_result",
          "data": {
            "text/plain": [
              "array([ 54005.16193882,  62459.70458507,  68096.06634925,  92520.30066066,\n",
              "        39914.25752839,  38035.47027366,  46490.01291992,  63399.09821244,\n",
              "       115065.74771734,  75611.21536814])"
            ]
          },
          "metadata": {
            "tags": []
          },
          "execution_count": 7
        }
      ]
    },
    {
      "cell_type": "code",
      "metadata": {
        "id": "TSAtB626T67c"
      },
      "source": [
        "[ 60150.  63218.  61111.  98273.  37731.  46205.  39891.  56957. 116969.\n",
        "  83088.]"
      ],
      "execution_count": null,
      "outputs": []
    },
    {
      "cell_type": "code",
      "metadata": {
        "colab": {
          "base_uri": "https://localhost:8080/"
        },
        "id": "H2UHsO1ZT7Bu",
        "outputId": "9bb3b32b-5ff0-4aeb-9a5c-9ab51dc09dae"
      },
      "source": [
        "x_test"
      ],
      "execution_count": null,
      "outputs": [
        {
          "output_type": "execute_result",
          "data": {
            "text/plain": [
              "array([[3. ],\n",
              "       [3.9],\n",
              "       [4.5],\n",
              "       [7.1],\n",
              "       [1.5],\n",
              "       [1.3],\n",
              "       [2.2],\n",
              "       [4. ],\n",
              "       [9.5],\n",
              "       [5.3]])"
            ]
          },
          "metadata": {
            "tags": []
          },
          "execution_count": 8
        }
      ]
    },
    {
      "cell_type": "code",
      "metadata": {
        "colab": {
          "base_uri": "https://localhost:8080/",
          "height": 295
        },
        "id": "iPZLUbpGT7HE",
        "outputId": "3dfbc887-70c8-4246-f8db-e8069cb628cb"
      },
      "source": [
        "#Visualize the training set data\n",
        "\n",
        "plt.scatter(x_train, y_train, color = \"blue\")\n",
        "plt.plot(x_train, slr.predict(x_train), color = \"green\")\n",
        "plt.title(\"Simple Linear Regression Model\")\n",
        "plt.xlabel(\"Experience\")\n",
        "plt.ylabel(\"Salary\")\n",
        "\n",
        "plt.show()"
      ],
      "execution_count": null,
      "outputs": [
        {
          "output_type": "display_data",
          "data": {
            "image/png": "[encoded data removed]",
            "text/plain": [
              "<Figure size 432x288 with 1 Axes>"
            ]
          },
          "metadata": {
            "tags": [],
            "needs_background": "light"
          }
        }
      ]
    },
    {
      "cell_type": "code",
      "metadata": {
        "colab": {
          "base_uri": "https://localhost:8080/",
          "height": 295
        },
        "id": "7CwCIoNuX9iV",
        "outputId": "59e16c0b-4255-4d76-eb6e-ebd598072872"
      },
      "source": [
        "#Visualize the test set data\n",
        "\n",
        "plt.scatter(x_test, y_test, color = \"blue\")\n",
        "plt.plot(x_train, slr.predict(x_train), color = \"green\")\n",
        "plt.title(\"Simple Linear Regression Model\")\n",
        "plt.xlabel(\"Experience\")\n",
        "plt.ylabel(\"Salary\")\n",
        "\n",
        "plt.show()"
      ],
      "execution_count": null,
      "outputs": [
        {
          "output_type": "display_data",
          "data": {
            "image/png": "[encoded data removed]",
            "text/plain": [
              "<Figure size 432x288 with 1 Axes>"
            ]
          },
          "metadata": {
            "tags": [],
            "needs_background": "light"
          }
        }
      ]
    }
  ]
}